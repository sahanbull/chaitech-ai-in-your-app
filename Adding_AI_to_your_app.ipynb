{
 "cells": [
  {
   "cell_type": "markdown",
   "id": "76c5e00a",
   "metadata": {},
   "source": [
    "# Adding AI to Your App\n",
    "\n",
    "This notebook provides multiple different approaches to leveraging artificial intelligence in your business. "
   ]
  },
  {
   "cell_type": "code",
   "execution_count": null,
   "id": "fca5757b",
   "metadata": {},
   "outputs": [],
   "source": [
    "!pip install -U scikit-learn\n",
    "!pip install pandas"
   ]
  },
  {
   "cell_type": "markdown",
   "id": "07bf434e",
   "metadata": {},
   "source": [
    "## Loading the Data\n",
    "\n",
    "We use a popular publicly available labelled sentiment analysis dataset to demonstrate the different approaches. "
   ]
  },
  {
   "cell_type": "code",
   "execution_count": null,
   "id": "d338a84f",
   "metadata": {},
   "outputs": [],
   "source": [
    "# import required functions\n",
    "from os.path import join\n",
    "from os import listdir\n",
    "\n",
    "data_dir = \"data\"\n",
    "pos_data_dir = join(data_dir, \"pos\")\n",
    "neg_data_dir = join(data_dir, \"neg\")"
   ]
  },
  {
   "cell_type": "code",
   "execution_count": null,
   "id": "2b4335d1",
   "metadata": {},
   "outputs": [],
   "source": [
    "def load_data(filepath, label):\n",
    "    files = [join(filepath, filename) for filename in listdir(filepath) if filename.endswith(\".txt\")]\n",
    "    records = []\n",
    "    \n",
    "    for file in files:\n",
    "        with open(file) as f:\n",
    "            text = f.read()\n",
    "        \n",
    "        records.append({\"text\": text, \"label\": label})\n",
    "    \n",
    "    return records"
   ]
  },
  {
   "cell_type": "code",
   "execution_count": null,
   "id": "8a5bb299",
   "metadata": {},
   "outputs": [],
   "source": [
    "import pandas as pd\n",
    "from sklearn.utils import shuffle\n",
    "\n",
    "\n",
    "pos = load_data(pos_data_dir, 1)\n",
    "neg = load_data(neg_data_dir, 0)\n",
    "\n",
    "records_df = shuffle(pd.DataFrame(pos + neg)).reset_index(drop=True)"
   ]
  },
  {
   "cell_type": "code",
   "execution_count": null,
   "id": "ba95aa16",
   "metadata": {},
   "outputs": [],
   "source": [
    "records_df"
   ]
  },
  {
   "cell_type": "markdown",
   "id": "5752e128",
   "metadata": {},
   "source": [
    "## Train-Test Split"
   ]
  },
  {
   "cell_type": "code",
   "execution_count": null,
   "id": "f7b1ffed",
   "metadata": {},
   "outputs": [],
   "source": [
    "from sklearn.model_selection import train_test_split\n",
    "\n",
    "X = records_df[\"text\"]\n",
    "y = records_df[\"label\"]\n",
    "\n",
    "X_train, X_test, y_train, y_test = train_test_split(X, y, test_size=0.3, random_state=42)"
   ]
  },
  {
   "cell_type": "markdown",
   "id": "7ade3c62",
   "metadata": {},
   "source": [
    "### Data vectorisation\n"
   ]
  },
  {
   "cell_type": "code",
   "execution_count": null,
   "id": "260845a9",
   "metadata": {},
   "outputs": [],
   "source": [
    "from sklearn.feature_extraction.text import TfidfVectorizer\n",
    "\n",
    "vectoriser = TfidfVectorizer(stop_words=\"english\")"
   ]
  },
  {
   "cell_type": "code",
   "execution_count": null,
   "id": "80ac4fb7",
   "metadata": {},
   "outputs": [],
   "source": [
    "x_train = vectoriser.fit_transform(X_train)"
   ]
  },
  {
   "cell_type": "markdown",
   "id": "0439e6c9",
   "metadata": {},
   "source": [
    "### Model Training"
   ]
  },
  {
   "cell_type": "code",
   "execution_count": null,
   "id": "6ec6a00d",
   "metadata": {},
   "outputs": [],
   "source": [
    "from sklearn.linear_model import LogisticRegression\n",
    "\n",
    "model = LogisticRegression()\n",
    "\n",
    "model.fit(x_train, y_train)"
   ]
  },
  {
   "cell_type": "code",
   "execution_count": null,
   "id": "ffa89f0f",
   "metadata": {},
   "outputs": [],
   "source": [
    "y_train_pred = model.predict(x_train)\n",
    "print(list(y_train_pred))\n",
    "print(list(y_train))"
   ]
  },
  {
   "cell_type": "markdown",
   "id": "0b67e18d",
   "metadata": {},
   "source": [
    "### Model Testing"
   ]
  },
  {
   "cell_type": "code",
   "execution_count": null,
   "id": "fb04199c",
   "metadata": {},
   "outputs": [],
   "source": [
    "x_test = vectoriser.transform(X_test)\n",
    "y_test_pred = model.predict(x_test)"
   ]
  },
  {
   "cell_type": "markdown",
   "id": "3fe85fd7",
   "metadata": {},
   "source": [
    "## Example Prediction"
   ]
  },
  {
   "cell_type": "code",
   "execution_count": null,
   "id": "73cc99d1",
   "metadata": {},
   "outputs": [],
   "source": [
    "example_text = list(X_test)[1]\n",
    "example_label = list(y_test)[1]\n",
    "\n",
    "print(\"Text: {}\\n Actual Label: {}\".format(example_text, example_label))"
   ]
  },
  {
   "cell_type": "markdown",
   "id": "e30ad905",
   "metadata": {},
   "source": [
    "### Predicting on example with our proprietary  model"
   ]
  },
  {
   "cell_type": "code",
   "execution_count": null,
   "id": "bf50727f",
   "metadata": {},
   "outputs": [],
   "source": [
    "x_vect = vectoriser.transform([example_text])\n",
    "y_pred = model.predict(x_vect)\n",
    "print(\"Predicted Label: {}\".format(y_pred[0]))"
   ]
  }
 ],
 "metadata": {
  "kernelspec": {
   "display_name": "Python 3",
   "language": "python",
   "name": "python3"
  },
  "language_info": {
   "codemirror_mode": {
    "name": "ipython",
    "version": 3
   },
   "file_extension": ".py",
   "mimetype": "text/x-python",
   "name": "python",
   "nbconvert_exporter": "python",
   "pygments_lexer": "ipython3",
   "version": "3.7.10"
  }
 },
 "nbformat": 4,
 "nbformat_minor": 5
}
