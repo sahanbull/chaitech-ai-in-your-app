{
 "cells": [
  {
   "cell_type": "markdown",
   "id": "76c5e00a",
   "metadata": {},
   "source": [
    "# Adding AI to Your App\n",
    "\n",
    "This notebook provides multiple different approaches to leveraging artificial intelligence in your business. "
   ]
  },
  {
   "cell_type": "markdown",
   "id": "07bf434e",
   "metadata": {},
   "source": [
    "## Loading the Data\n",
    "\n",
    "We use a popular publicly available labelled sentiment analysis dataset to demonstrate the different approaches. "
   ]
  },
  {
   "cell_type": "code",
   "execution_count": 1,
   "id": "d338a84f",
   "metadata": {},
   "outputs": [],
   "source": [
    "data_dir = \"data\""
   ]
  },
  {
   "cell_type": "code",
   "execution_count": null,
   "id": "2e691867",
   "metadata": {},
   "outputs": [],
   "source": [
    "!pip install -U scikit-learn"
   ]
  }
 ],
 "metadata": {
  "kernelspec": {
   "display_name": "Python 3",
   "language": "python",
   "name": "python3"
  },
  "language_info": {
   "codemirror_mode": {
    "name": "ipython",
    "version": 3
   },
   "file_extension": ".py",
   "mimetype": "text/x-python",
   "name": "python",
   "nbconvert_exporter": "python",
   "pygments_lexer": "ipython3",
   "version": "3.7.10"
  }
 },
 "nbformat": 4,
 "nbformat_minor": 5
}
